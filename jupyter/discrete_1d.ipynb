{
 "cells": [
  {
   "cell_type": "markdown",
   "metadata": {},
   "source": [
    "# Hill Climbing - Discrete version, 1d"
   ]
  },
  {
   "cell_type": "code",
   "execution_count": 1,
   "metadata": {},
   "outputs": [],
   "source": [
    "import sys\n",
    "sys.path.insert(0, '../src')\n",
    "\n",
    "import discrete_1d as hc"
   ]
  },
  {
   "cell_type": "code",
   "execution_count": 2,
   "metadata": {},
   "outputs": [],
   "source": [
    "test_array = hc.f_1d()\n",
    "maximum = max(test_array)"
   ]
  },
  {
   "cell_type": "markdown",
   "metadata": {},
   "source": [
    "#### Bad starting position can lead to local optimum that is not global"
   ]
  },
  {
   "cell_type": "code",
   "execution_count": 3,
   "metadata": {},
   "outputs": [
    {
     "name": "stdout",
     "output_type": "stream",
     "text": [
      "Path: [10, 5, 0, 3, 2] \n",
      "Num of iterations: 15 \n",
      "Value of found local optimum: 5 \n",
      "Value of global optimum: 9\n"
     ]
    },
    {
     "data": {
      "image/png": "[encoded data removed]",
      "text/plain": [
       "<matplotlib.figure.Figure at 0x2287d009710>"
      ]
     },
     "metadata": {},
     "output_type": "display_data"
    },
    {
     "data": {
      "text/plain": [
       "<matplotlib.figure.Figure at 0x2287d05c470>"
      ]
     },
     "metadata": {},
     "output_type": "display_data"
    }
   ],
   "source": [
    "result, iters = hc.discrete_hill_climbing_simple_1d(test_array, x0=10, step=5, max_iter=100, verbose=0)\n",
    "print(\"Path:\",result, \"\\nNum of iterations:\", iters, \\\n",
    "      \"\\nValue of found local optimum:\", test_array[result[-1]], \\\n",
    "      \"\\nValue of global optimum:\", maximum)\n",
    "hc.draw_discrete_1d_and_steps(test_array,result,show=True)"
   ]
  },
  {
   "cell_type": "markdown",
   "metadata": {},
   "source": [
    "#### Good starting positon"
   ]
  },
  {
   "cell_type": "code",
   "execution_count": 4,
   "metadata": {},
   "outputs": [
    {
     "name": "stdout",
     "output_type": "stream",
     "text": [
      "Path: [11, 21, 24, 23] \n",
      "Num of iterations: 26 \n",
      "Value of found local optimum: 9 \n",
      "Value of global optimum: 9\n"
     ]
    },
    {
     "data": {
      "image/png": "[encoded data removed]",
      "text/plain": [
       "<matplotlib.figure.Figure at 0x2287d009080>"
      ]
     },
     "metadata": {},
     "output_type": "display_data"
    },
    {
     "data": {
      "text/plain": [
       "<matplotlib.figure.Figure at 0x2287d10b588>"
      ]
     },
     "metadata": {},
     "output_type": "display_data"
    }
   ],
   "source": [
    "result, iters = hc.discrete_hill_climbing_simple_1d(test_array, x0=11, step=10, max_iter=100, verbose=0)\n",
    "print(\"Path:\",result, \"\\nNum of iterations:\", iters, \\\n",
    "      \"\\nValue of found local optimum:\", test_array[result[-1]], \\\n",
    "      \"\\nValue of global optimum:\", maximum)\n",
    "hc.draw_discrete_1d_and_steps(test_array,result,show=True)"
   ]
  },
  {
   "cell_type": "markdown",
   "metadata": {},
   "source": [
    "#### Huge step can sway away from current local optimum into another"
   ]
  },
  {
   "cell_type": "code",
   "execution_count": 5,
   "metadata": {},
   "outputs": [
    {
     "name": "stdout",
     "output_type": "stream",
     "text": [
      "Path: [11, 31, 16, 1, 2] \n",
      "Num of iterations: 27 \n",
      "Value of found local optimum: 5 \n",
      "Value of global optimum: 9\n"
     ]
    },
    {
     "data": {
      "image/png": "[encoded data removed]",
      "text/plain": [
       "<matplotlib.figure.Figure at 0x2287d138978>"
      ]
     },
     "metadata": {},
     "output_type": "display_data"
    },
    {
     "data": {
      "text/plain": [
       "<matplotlib.figure.Figure at 0x2287d1daeb8>"
      ]
     },
     "metadata": {},
     "output_type": "display_data"
    }
   ],
   "source": [
    "result, iters = hc.discrete_hill_climbing_simple_1d(test_array, x0=11, step=20, max_iter=100, verbose=0)\n",
    "print(\"Path:\",result, \"\\nNum of iterations:\", iters, \\\n",
    "      \"\\nValue of found local optimum:\", test_array[result[-1]], \\\n",
    "      \"\\nValue of global optimum:\", maximum)\n",
    "hc.draw_discrete_1d_and_steps(test_array,result,show=True)"
   ]
  },
  {
   "cell_type": "code",
   "execution_count": null,
   "metadata": {},
   "outputs": [],
   "source": []
  }
 ],
 "metadata": {
  "kernelspec": {
   "display_name": "Python 3",
   "language": "python",
   "name": "python3"
  },
  "language_info": {
   "codemirror_mode": {
    "name": "ipython",
    "version": 3
   },
   "file_extension": ".py",
   "mimetype": "text/x-python",
   "name": "python",
   "nbconvert_exporter": "python",
   "pygments_lexer": "ipython3",
   "version": "3.6.4"
  }
 },
 "nbformat": 4,
 "nbformat_minor": 2
}
